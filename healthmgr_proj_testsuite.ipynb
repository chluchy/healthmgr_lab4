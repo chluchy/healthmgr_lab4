{
 "cells": [
  {
   "cell_type": "code",
   "execution_count": 2,
   "metadata": {},
   "outputs": [
    {
     "name": "stderr",
     "output_type": "stream",
     "text": [
      "test_bbdosing (testinsdose_mod.TestInsDose)\n",
      "Test of bbdosing function to make sure the right output of ... ok\n",
      "test_carbcorr (testinsdose_mod.TestInsDose)\n",
      "Test of carbcorr function which calculates the carb correction dose ... ok\n",
      "test_carbratio (testinsdose_mod.TestInsDose)\n",
      "Test of carbratio function which calculates the insulin to carb ... ok\n",
      "test_cfact (testinsdose_mod.TestInsDose)\n",
      "Test of cfact function which calculates the correction factor based ... ok\n",
      "test_counts (testmedmgr_mod.TestMedLs)\n",
      "Test the functions medCount and abxCount from module medmgr ... ok\n",
      "test_display (testmedmgr_mod.TestMedLs)\n",
      "Test the functions display and displayAll which displays the ... ok\n",
      "\n",
      "----------------------------------------------------------------------\n",
      "Ran 6 tests in 0.009s\n",
      "\n",
      "OK\n"
     ]
    },
    {
     "name": "stdout",
     "output_type": "stream",
     "text": [
      "test_count_functions\n",
      "test_display_functions\n"
     ]
    },
    {
     "name": "stderr",
     "output_type": "stream",
     "text": [
      "test_add (TestAdddoc.TestAdddoc)\n",
      "Tests if instances of classes doctor and specialist were properly created.  Also tests that ... ok\n",
      "test_methods (TestAdddoc.TestAdddoc)\n",
      "tests two methods on instances of specialist to see if an individual is accepting new patients right ... ok\n",
      "test_bbdosing (testinsdose_mod.TestInsDose)\n",
      "Test of bbdosing function to make sure the right output of ... ok\n",
      "test_carbcorr (testinsdose_mod.TestInsDose)\n",
      "Test of carbcorr function which calculates the carb correction dose ... ok\n",
      "test_carbratio (testinsdose_mod.TestInsDose)\n",
      "Test of carbratio function which calculates the insulin to carb ... ok\n",
      "test_cfact (testinsdose_mod.TestInsDose)\n",
      "Test of cfact function which calculates the correction factor based ... ok\n",
      "test_counts (testmedmgr_mod.TestMedLs)\n",
      "Test the functions medCount and abxCount from module medmgr ... ok\n",
      "test_display (testmedmgr_mod.TestMedLs)\n",
      "Test the functions display and displayAll which displays the ... ok\n",
      "\n",
      "----------------------------------------------------------------------\n",
      "Ran 8 tests in 0.008s\n",
      "\n",
      "OK\n",
      ".........."
     ]
    },
    {
     "name": "stdout",
     "output_type": "stream",
     "text": [
      "Patient counts must be greater than zero\n",
      "Please enter numbers for both current patients and max patients\n",
      "Patient counts must be greater than zero\n",
      "Please enter numbers for both current patients and max patients\n",
      "test_count_functions\n",
      "test_display_functions\n",
      "Patient counts must be greater than zero\n",
      "Please enter numbers for both current patients and max patients\n",
      "Patient counts must be greater than zero\n",
      "Please enter numbers for both current patients and max patients\n",
      "test_count_functions\n",
      "test_display_functions\n",
      "<unittest.runner.TextTestResult run=10 errors=0 failures=0>\n"
     ]
    },
    {
     "name": "stderr",
     "output_type": "stream",
     "text": [
      "\n",
      "----------------------------------------------------------------------\n",
      "Ran 10 tests in 0.048s\n",
      "\n",
      "OK\n"
     ]
    }
   ],
   "source": [
    "import unittest\n",
    "from TestAdddoc import TestAdddoc\n",
    "from TestDoctordb import TestDrdb\n",
    "from testinsdose_mod import TestInsDose\n",
    "from testmedmgr_mod import TestMedLs\n",
    "def my_suite():\n",
    "    suite = unittest.TestSuite()\n",
    "    result = unittest.TestResult()\n",
    "    suite.addTest(unittest.makeSuite(TestAdddoc))\n",
    "    suite.addTest(unittest.makeSuite(TestDrdb))\n",
    "    suite.addTest(unittest.makeSuite(TestInsDose))\n",
    "    suite.addTest(unittest.makeSuite(TestMedLs))\n",
    "    runner=unittest.TextTestRunner()\n",
    "    print(runner.run(suite))\n",
    "my_suite()"
   ]
  },
  {
   "cell_type": "code",
   "execution_count": null,
   "metadata": {},
   "outputs": [],
   "source": []
  },
  {
   "cell_type": "code",
   "execution_count": null,
   "metadata": {},
   "outputs": [],
   "source": []
  }
 ],
 "metadata": {
  "kernelspec": {
   "display_name": "Python 3",
   "language": "python",
   "name": "python3"
  },
  "language_info": {
   "codemirror_mode": {
    "name": "ipython",
    "version": 3
   },
   "file_extension": ".py",
   "mimetype": "text/x-python",
   "name": "python",
   "nbconvert_exporter": "python",
   "pygments_lexer": "ipython3",
   "version": "3.7.3"
  }
 },
 "nbformat": 4,
 "nbformat_minor": 2
}
