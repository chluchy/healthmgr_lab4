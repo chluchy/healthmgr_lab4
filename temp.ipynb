{
 "cells": [
  {
   "cell_type": "code",
   "execution_count": 1,
   "metadata": {},
   "outputs": [
    {
     "name": "stderr",
     "output_type": "stream",
     "text": [
      "test_add (__main__.TestAdddoc) ... ok\n",
      "test_methods (__main__.TestAdddoc) ... ok\n",
      "\n",
      "----------------------------------------------------------------------\n",
      "Ran 2 tests in 0.005s\n",
      "\n",
      "OK\n"
     ]
    },
    {
     "data": {
      "text/plain": [
       "<unittest.main.TestProgram at 0x1eab3c3b208>"
      ]
     },
     "execution_count": 1,
     "metadata": {},
     "output_type": "execute_result"
    }
   ],
   "source": [
    "from healthmgr.doctor import adddoc as ad\n",
    "import unittest\n",
    "class TestAdddoc(unittest.TestCase):\n",
    "    def setUp(self):\n",
    "        self.p1=ad.specialist('smith','pediatrics',124,111)\n",
    "        self.p2=ad.specialist('carter','infectious disease',167,229)\n",
    "        self.p3=ad.specialist('chen','surgery',155,247)\n",
    "        self.p4=ad.doctor('jones',230,121)\n",
    "    def test_add(self):\n",
    "        self.assertEqual(self.p1.name,'smith')\n",
    "        self.assertNotEqual(self.p1.name,'carter')\n",
    "        self.assertEqual(self.p2.pavail,62)\n",
    "        self.assertIsInstance(self.p1,ad.doctor)\n",
    "        self.assertIsInstance(self.p1,ad.specialist)\n",
    "        self.assertIsInstance(self.p4,ad.doctor)\n",
    "        self.assertNotIsInstance(self.p4,ad.specialist)\n",
    "    def test_methods(self):\n",
    "        self.assertEqual(self.p1.newp(),\"There's options to join a waitlist\")\n",
    "        self.assertEqual(self.p2.newp(),\"Accepting new patients, please call\")\n",
    "        self.assertNotEqual(self.p3.newp(),\"There's options to join a waitlist\")\n",
    "        self.assertEqual(self.p1.waitlist(),\"You're position 14 on the waitlist, and should be seen in 3.5 months\")\n",
    "        self.assertNotEqual(self.p1.waitlist(),\"You're position 14 on the waitlist, and should be seen in 3.5 months\")\n",
    "    def tearDown(self):\n",
    "        self.p1=None\n",
    "        self.p2=None\n",
    "        self.p3=None\n",
    "        self.p4=None\n",
    "\n",
    "unittest.main(argv=[''], verbosity=2,exit=False)\n"
   ]
  },
  {
   "cell_type": "code",
   "execution_count": 2,
   "metadata": {},
   "outputs": [
    {
     "name": "stderr",
     "output_type": "stream",
     "text": [
      "test_add (__main__.TestAdddoc) ... ok\n",
      "test_methods (__main__.TestAdddoc) ... ok\n",
      "test_entry (__main__.TestDrdb) ... ok\n",
      "test_search (__main__.TestDrdb) ... ok\n",
      "\n",
      "----------------------------------------------------------------------\n",
      "Ran 4 tests in 0.043s\n",
      "\n",
      "OK\n"
     ]
    },
    {
     "data": {
      "text/plain": [
       "<unittest.main.TestProgram at 0x1eab57ae5f8>"
      ]
     },
     "execution_count": 2,
     "metadata": {},
     "output_type": "execute_result"
    }
   ],
   "source": [
    "import pandas as pd\n",
    "from healthmgr.doctor import adddoc as ad\n",
    "from healthmgr.doctor import doctordb as drdb\n",
    "import unittest\n",
    "class TestDrdb(unittest.TestCase):\n",
    "    def setUp(self):\n",
    "        self.p1=ad.specialist('smith','pediatrics',124,111)\n",
    "        self.p2=ad.specialist('carter','infectious disease',167,229)\n",
    "        self.p3=ad.specialist('chen','surgery',155,247)\n",
    "        self.df=pd.DataFrame(columns=['name','specialty','patients','max_patients'])\n",
    "        self.df=drdb.db_entry(self.df,self.p1)\n",
    "        self.df=drdb.db_entry(self.df,self.p2)\n",
    "        self.df=drdb.db_entry(self.df,self.p3)\n",
    "    def test_entry(self):\n",
    "        self.assertEqual('smith',self.df.name[0])\n",
    "        self.assertEqual('pediatrics',self.df.specialty[0])\n",
    "        self.assertEqual(124,self.df.patients[0])\n",
    "        self.assertEqual('carter',self.df.name[1])\n",
    "        self.assertNotEqual('chen',self.df.name[1])\n",
    "        self.assertEqual(247,self.df.max_patients[2])\n",
    "    def test_search(self):\n",
    "        self.assertEqual(drdb.doc_search(self.df,'surgery'),'Doctors matching that specialty include: chen')\n",
    "        self.assertEqual(drdb.doc_search(self.df,'pediatrics'),'Doctors matching that specialty include: smith')\n",
    "        self.assertEqual(drdb.doc_search(self.df,'infectious disease'),'Doctors matching that specialty include: carter')\n",
    "        self.assertEqual(drdb.doc_search(self.df,'nephrology'),'Sorry, there are no doctors with that specialty')\n",
    "        self.assertEqual(drdb.doc_search(self.df,'opthamology'),'Sorry, there are no doctors with that specialty')\n",
    "    def tearDown(self):\n",
    "        self.df=None\n",
    "        self.p1=None\n",
    "        self.p2=None\n",
    "        self.p3=None\n",
    "unittest.main(argv=[''], verbosity=2,exit=False)"
   ]
  },
  {
   "cell_type": "code",
   "execution_count": null,
   "metadata": {},
   "outputs": [],
   "source": []
  }
 ],
 "metadata": {
  "kernelspec": {
   "display_name": "Python 3",
   "language": "python",
   "name": "python3"
  },
  "language_info": {
   "codemirror_mode": {
    "name": "ipython",
    "version": 3
   },
   "file_extension": ".py",
   "mimetype": "text/x-python",
   "name": "python",
   "nbconvert_exporter": "python",
   "pygments_lexer": "ipython3",
   "version": "3.7.3"
  }
 },
 "nbformat": 4,
 "nbformat_minor": 2
}
