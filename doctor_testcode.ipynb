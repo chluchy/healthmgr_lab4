{
 "cells": [
  {
   "cell_type": "markdown",
   "metadata": {},
   "source": [
    "Create instances of doctors`"
   ]
  },
  {
   "cell_type": "code",
   "execution_count": 9,
   "metadata": {},
   "outputs": [],
   "source": [
    "import pandas as pd\n",
    "from healthmgr.doctor import adddoc as ad\n",
    "\n",
    "smith=ad.specialist('smith','pediatrics',124,111)\n",
    "carter=ad.specialist('carter','infectious disease',167,229)\n",
    "chen=ad.specialist('chen','surgery',155,247)\n",
    "patel=ad.specialist('patel','surgery',209,197)\n",
    "lee=ad.specialist('lee','obstetrics',245,208)\n",
    "jordan=ad.specialist('jordan','opthamology',214,256)"
   ]
  },
  {
   "cell_type": "markdown",
   "metadata": {},
   "source": [
    "Add doctors to a database"
   ]
  },
  {
   "cell_type": "code",
   "execution_count": 10,
   "metadata": {},
   "outputs": [
    {
     "name": "stdout",
     "output_type": "stream",
     "text": [
      "     name           specialty patients max_patients\n",
      "0   smith          pediatrics      124          111\n",
      "1  carter  infectious disease      167          229\n",
      "2    chen             surgery      155          247\n",
      "3   patel             surgery      209          197\n",
      "4     lee          obstetrics      245          208\n",
      "5  jordan         opthamology      214          256\n"
     ]
    }
   ],
   "source": [
    "from healthmgr.doctor import doctordb as drdb\n",
    "\n",
    "df=pd.DataFrame(columns=['name','specialty','patients','max_patients'])\n",
    "\n",
    "new_docs = [smith,carter,chen, patel,lee,jordan]\n",
    "for n in new_docs:\n",
    "    df=drdb.db_entry(df,n)\n",
    "print(df)"
   ]
  },
  {
   "cell_type": "code",
   "execution_count": null,
   "metadata": {},
   "outputs": [],
   "source": []
  },
  {
   "cell_type": "markdown",
   "metadata": {},
   "source": [
    "Query the database for surgeons"
   ]
  },
  {
   "cell_type": "code",
   "execution_count": 11,
   "metadata": {},
   "outputs": [
    {
     "data": {
      "text/plain": [
       "'Doctors matching that specialty include: chen, patel'"
      ]
     },
     "execution_count": 11,
     "metadata": {},
     "output_type": "execute_result"
    }
   ],
   "source": [
    "drdb.doc_search(df,'surgery')"
   ]
  },
  {
   "cell_type": "markdown",
   "metadata": {},
   "source": [
    "See if patel is accepting new patients"
   ]
  },
  {
   "cell_type": "code",
   "execution_count": 12,
   "metadata": {},
   "outputs": [
    {
     "data": {
      "text/plain": [
       "\"There's options to join a waitlist\""
      ]
     },
     "execution_count": 12,
     "metadata": {},
     "output_type": "execute_result"
    }
   ],
   "source": [
    "patel.newp()"
   ]
  },
  {
   "cell_type": "markdown",
   "metadata": {},
   "source": [
    "Join waitlist"
   ]
  },
  {
   "cell_type": "code",
   "execution_count": 13,
   "metadata": {},
   "outputs": [
    {
     "data": {
      "text/plain": [
       "\"You're position 13 on the waitlist, and should be seen in 3.25 months\""
      ]
     },
     "execution_count": 13,
     "metadata": {},
     "output_type": "execute_result"
    }
   ],
   "source": [
    "patel.waitlist()"
   ]
  },
  {
   "cell_type": "code",
   "execution_count": null,
   "metadata": {},
   "outputs": [],
   "source": []
  }
 ],
 "metadata": {
  "kernelspec": {
   "display_name": "Python 3",
   "language": "python",
   "name": "python3"
  },
  "language_info": {
   "codemirror_mode": {
    "name": "ipython",
    "version": 3
   },
   "file_extension": ".py",
   "mimetype": "text/x-python",
   "name": "python",
   "nbconvert_exporter": "python",
   "pygments_lexer": "ipython3",
   "version": "3.7.3"
  }
 },
 "nbformat": 4,
 "nbformat_minor": 2
}
