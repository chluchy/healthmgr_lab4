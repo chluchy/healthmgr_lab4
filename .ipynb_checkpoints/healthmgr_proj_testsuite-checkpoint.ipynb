{
 "cells": [
  {
   "cell_type": "code",
   "execution_count": 1,
   "metadata": {},
   "outputs": [
    {
     "name": "stderr",
     "output_type": "stream",
     "text": [
      "\n",
      "----------------------------------------------------------------------\n",
      "Ran 0 tests in 0.000s\n",
      "\n",
      "OK\n",
      "test_bbdosing (testinsdose_mod.TestInsDose)\n",
      "Test of bbdosing function to make sure the right output of ... FAIL\n",
      "test_carbcorr (testinsdose_mod.TestInsDose)\n",
      "Test of carbcorr function which calculates the carb correction dose ... FAIL\n",
      "test_carbratio (testinsdose_mod.TestInsDose)\n",
      "Test of carbratio function which calculates the insulin to carb ... FAIL\n",
      "test_cfact (testinsdose_mod.TestInsDose)\n",
      "Test of cfact function which calculates the correction factor based ... FAIL\n",
      "\n",
      "======================================================================\n",
      "FAIL: test_bbdosing (testinsdose_mod.TestInsDose)\n",
      "Test of bbdosing function to make sure the right output of\n",
      "----------------------------------------------------------------------\n",
      "Traceback (most recent call last):\n",
      "  File \"/Users/mds/Desktop/healthmgr_lab4/testinsdose_mod.py\", line 36, in test_bbdosing\n",
      "    bbdosing(-5)\n",
      "AssertionError: ValueError not raised\n",
      "\n",
      "======================================================================\n",
      "FAIL: test_carbcorr (testinsdose_mod.TestInsDose)\n",
      "Test of carbcorr function which calculates the carb correction dose\n",
      "----------------------------------------------------------------------\n",
      "Traceback (most recent call last):\n",
      "  File \"/Users/mds/Desktop/healthmgr_lab4/testinsdose_mod.py\", line 78, in test_carbcorr\n",
      "    carbcorr(-60, 10)\n",
      "AssertionError: ValueError not raised\n",
      "\n",
      "======================================================================\n",
      "FAIL: test_carbratio (testinsdose_mod.TestInsDose)\n",
      "Test of carbratio function which calculates the insulin to carb\n",
      "----------------------------------------------------------------------\n",
      "Traceback (most recent call last):\n",
      "  File \"/Users/mds/Desktop/healthmgr_lab4/testinsdose_mod.py\", line 48, in test_carbratio\n",
      "    carbratio(-15)\n",
      "AssertionError: ValueError not raised\n",
      "\n",
      "======================================================================\n",
      "FAIL: test_cfact (testinsdose_mod.TestInsDose)\n",
      "Test of cfact function which calculates the correction factor based\n",
      "----------------------------------------------------------------------\n",
      "Traceback (most recent call last):\n",
      "  File \"/Users/mds/Desktop/healthmgr_lab4/testinsdose_mod.py\", line 62, in test_cfact\n",
      "    cfact(-15)\n",
      "AssertionError: ValueError not raised\n",
      "\n",
      "----------------------------------------------------------------------\n",
      "Ran 4 tests in 0.003s\n",
      "\n",
      "FAILED (failures=4)\n",
      "FFFF.."
     ]
    },
    {
     "name": "stdout",
     "output_type": "stream",
     "text": [
      "test_count_functions\n",
      "test_display_functions\n",
      "<unittest.runner.TextTestResult run=6 errors=0 failures=4>\n"
     ]
    },
    {
     "name": "stderr",
     "output_type": "stream",
     "text": [
      "\n",
      "======================================================================\n",
      "FAIL: test_bbdosing (testinsdose_mod.TestInsDose)\n",
      "Test of bbdosing function to make sure the right output of\n",
      "----------------------------------------------------------------------\n",
      "Traceback (most recent call last):\n",
      "  File \"/Users/mds/Desktop/healthmgr_lab4/testinsdose_mod.py\", line 36, in test_bbdosing\n",
      "    bbdosing(-5)\n",
      "AssertionError: ValueError not raised\n",
      "\n",
      "======================================================================\n",
      "FAIL: test_carbcorr (testinsdose_mod.TestInsDose)\n",
      "Test of carbcorr function which calculates the carb correction dose\n",
      "----------------------------------------------------------------------\n",
      "Traceback (most recent call last):\n",
      "  File \"/Users/mds/Desktop/healthmgr_lab4/testinsdose_mod.py\", line 78, in test_carbcorr\n",
      "    carbcorr(-60, 10)\n",
      "AssertionError: ValueError not raised\n",
      "\n",
      "======================================================================\n",
      "FAIL: test_carbratio (testinsdose_mod.TestInsDose)\n",
      "Test of carbratio function which calculates the insulin to carb\n",
      "----------------------------------------------------------------------\n",
      "Traceback (most recent call last):\n",
      "  File \"/Users/mds/Desktop/healthmgr_lab4/testinsdose_mod.py\", line 48, in test_carbratio\n",
      "    carbratio(-15)\n",
      "AssertionError: ValueError not raised\n",
      "\n",
      "======================================================================\n",
      "FAIL: test_cfact (testinsdose_mod.TestInsDose)\n",
      "Test of cfact function which calculates the correction factor based\n",
      "----------------------------------------------------------------------\n",
      "Traceback (most recent call last):\n",
      "  File \"/Users/mds/Desktop/healthmgr_lab4/testinsdose_mod.py\", line 62, in test_cfact\n",
      "    cfact(-15)\n",
      "AssertionError: ValueError not raised\n",
      "\n",
      "----------------------------------------------------------------------\n",
      "Ran 6 tests in 0.005s\n",
      "\n",
      "FAILED (failures=4)\n"
     ]
    }
   ],
   "source": [
    "import unittest\n",
    "# from TestAdddoc import TestAdddoc\n",
    "# from TestDoctordb import TestDrdb\n",
    "from testinsdose_mod import TestInsDose\n",
    "from testmedmgr_mod import TestMedLs\n",
    "def my_suite():\n",
    "    suite = unittest.TestSuite()\n",
    "    result = unittest.TestResult()\n",
    "#     suite.addTest(unittest.makeSuite(TestAdddoc))\n",
    "#     suite.addTest(unittest.makeSuite(TestDrdb))\n",
    "    suite.addTest(unittest.makeSuite(TestInsDose))\n",
    "    suite.addTest(unittest.makeSuite(TestMedLs))\n",
    "    runner=unittest.TextTestRunner()\n",
    "    print(runner.run(suite))\n",
    "my_suite()"
   ]
  },
  {
   "cell_type": "code",
   "execution_count": 4,
   "metadata": {},
   "outputs": [
    {
     "name": "stdout",
     "output_type": "stream",
     "text": [
      "Collecting prettytable\n",
      "  Downloading https://files.pythonhosted.org/packages/ef/30/4b0746848746ed5941f052479e7c23d2b56d174b82f4fd34a25e389831f5/prettytable-0.7.2.tar.bz2\n",
      "Building wheels for collected packages: prettytable\n",
      "  Building wheel for prettytable (setup.py): started\n",
      "  Building wheel for prettytable (setup.py): finished with status 'done'\n",
      "  Stored in directory: C:\\Users\\chris\\AppData\\Local\\pip\\Cache\\wheels\\80\\34\\1c\\3967380d9676d162cb59513bd9dc862d0584e045a162095606\n",
      "Successfully built prettytable\n",
      "Installing collected packages: prettytable\n",
      "Successfully installed prettytable-0.7.2\n",
      "Note: you may need to restart the kernel to use updated packages.\n"
     ]
    }
   ],
   "source": []
  },
  {
   "cell_type": "code",
   "execution_count": null,
   "metadata": {},
   "outputs": [],
   "source": []
  }
 ],
 "metadata": {
  "kernelspec": {
   "display_name": "Python 3",
   "language": "python",
   "name": "python3"
  },
  "language_info": {
   "codemirror_mode": {
    "name": "ipython",
    "version": 3
   },
   "file_extension": ".py",
   "mimetype": "text/x-python",
   "name": "python",
   "nbconvert_exporter": "python",
   "pygments_lexer": "ipython3",
   "version": "3.7.3"
  }
 },
 "nbformat": 4,
 "nbformat_minor": 2
}
