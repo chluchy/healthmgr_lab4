{
 "cells": [
  {
   "cell_type": "code",
   "execution_count": 1,
   "metadata": {},
   "outputs": [
    {
     "name": "stderr",
     "output_type": "stream",
     "text": [
      "\n",
      "----------------------------------------------------------------------\n",
      "Ran 0 tests in 0.000s\n",
      "\n",
      "OK\n",
      "test_bbdosing (testinsdose_mod.TestInsDose)\n",
      "Test of bbdosing function to make sure the right output of ... ok\n",
      "test_carbcorr (testinsdose_mod.TestInsDose)\n",
      "Test of carbcorr function which calculates the carb correction dose ... ok\n",
      "test_carbratio (testinsdose_mod.TestInsDose)\n",
      "Test of carbratio function which calculates the insulin to carb ... ok\n",
      "test_cfact (testinsdose_mod.TestInsDose)\n",
      "Test of cfact function which calculates the correction factor based ... ok\n",
      "\n",
      "----------------------------------------------------------------------\n",
      "Ran 4 tests in 0.003s\n",
      "\n",
      "OK\n",
      "......"
     ]
    },
    {
     "name": "stdout",
     "output_type": "stream",
     "text": [
      "test_count_functions\n",
      "test_display_functions\n",
      "<unittest.runner.TextTestResult run=6 errors=0 failures=0>\n"
     ]
    },
    {
     "name": "stderr",
     "output_type": "stream",
     "text": [
      "\n",
      "----------------------------------------------------------------------\n",
      "Ran 6 tests in 0.003s\n",
      "\n",
      "OK\n"
     ]
    }
   ],
   "source": [
    "import unittest\n",
    "# from TestAdddoc import TestAdddoc\n",
    "# from TestDoctordb import TestDrdb\n",
    "from testinsdose_mod import TestInsDose\n",
    "from testmedmgr_mod import TestMedLs\n",
    "def my_suite():\n",
    "    suite = unittest.TestSuite()\n",
    "    result = unittest.TestResult()\n",
    "#     suite.addTest(unittest.makeSuite(TestAdddoc))\n",
    "#     suite.addTest(unittest.makeSuite(TestDrdb))\n",
    "    suite.addTest(unittest.makeSuite(TestInsDose))\n",
    "    suite.addTest(unittest.makeSuite(TestMedLs))\n",
    "    runner=unittest.TextTestRunner()\n",
    "    print(runner.run(suite))\n",
    "my_suite()"
   ]
  },
  {
   "cell_type": "code",
   "execution_count": null,
   "metadata": {},
   "outputs": [],
   "source": []
  },
  {
   "cell_type": "code",
   "execution_count": null,
   "metadata": {},
   "outputs": [],
   "source": []
  }
 ],
 "metadata": {
  "kernelspec": {
   "display_name": "Python 3",
   "language": "python",
   "name": "python3"
  },
  "language_info": {
   "codemirror_mode": {
    "name": "ipython",
    "version": 3
   },
   "file_extension": ".py",
   "mimetype": "text/x-python",
   "name": "python",
   "nbconvert_exporter": "python",
   "pygments_lexer": "ipython3",
   "version": "3.7.3"
  }
 },
 "nbformat": 4,
 "nbformat_minor": 2
}
