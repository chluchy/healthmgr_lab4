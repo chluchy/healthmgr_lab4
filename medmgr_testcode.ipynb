{
 "cells": [
  {
   "cell_type": "markdown",
   "metadata": {},
   "source": [
    "### Test file for medmgr subpackage"
   ]
  },
  {
   "cell_type": "code",
   "execution_count": 1,
   "metadata": {},
   "outputs": [],
   "source": [
    "import healthmgr.medmgr.insdose as ins"
   ]
  },
  {
   "cell_type": "markdown",
   "metadata": {},
   "source": [
    "Has the functions:\n",
    "- bbdosing \n",
    "    - estimates the total daily insulin dose and the daily basal insulin dose \n",
    "    - input weight in kg\n",
    "- carbratio the insulin to carb ratio\n",
    "    - estimates the insulin to carb ratio\n",
    "    - input total daily insulin dose in units of insulin\n",
    "- cfact \n",
    "    - estimates the correction factor\n",
    "    - input total daily insulin dose in units of insulin\n",
    "- carbcorr \n",
    "    - estimates the insulin to carbohydrate ratio\n",
    "    - input carbohydrates in grams and the known insulin to carb ratio"
   ]
  },
  {
   "cell_type": "code",
   "execution_count": 2,
   "metadata": {},
   "outputs": [
    {
     "name": "stdout",
     "output_type": "stream",
     "text": [
      "Based on your weight in kg, your estimated total daily insulin dose is 30.0 units.\n",
      "Your estimated daily dose for basal insulin is 12.0 units. Your estimated daily dose for bolus insulin is 18.0 units. Generally, bolus insulin is divided evenly between meals.\n",
      "Based on your daily insulin requirement, your estimated insulin to carb ratio is 12.5 meaning that 1 unit of rapid acting insulin will cover 12.5 g of carbohydrates.\n",
      "Your correction factor/dose is 2.5, meaning that 1 unit of rapid acting insulin will decrease your blood sugar by 2.5 mmol/l.\n",
      "Your carbohydrate correction dose is 6.0.\n"
     ]
    }
   ],
   "source": [
    "ins.bbdosing(60)\n",
    "ins.carbratio(40)\n",
    "ins.cfact(40)\n",
    "ins.carbcorr(60, 10)"
   ]
  },
  {
   "cell_type": "code",
   "execution_count": 3,
   "metadata": {},
   "outputs": [],
   "source": [
    "import healthmgr.medmgr.medls as ml"
   ]
  },
  {
   "cell_type": "markdown",
   "metadata": {},
   "source": [
    "Create instances of Medication and Antibiotic."
   ]
  },
  {
   "cell_type": "code",
   "execution_count": 4,
   "metadata": {},
   "outputs": [],
   "source": [
    "med1 = ml.Medication('aspirin', '80mg', 'daily')\n",
    "med2 = ml.Antibiotic('amoxicillin', '500mg', 'three times daily', '14 days')\n",
    "med3 = ml.Antibiotic('septra', '2 DS', 'two times daily', '7 days')\n",
    "med4 = ml.Medication('furosemide', '40mg', 'daily as needed')"
   ]
  },
  {
   "cell_type": "markdown",
   "metadata": {},
   "source": [
    "Display total count of medications or antibiotics,"
   ]
  },
  {
   "cell_type": "code",
   "execution_count": 5,
   "metadata": {},
   "outputs": [
    {
     "name": "stdout",
     "output_type": "stream",
     "text": [
      "Total number of medications: 4\n",
      "Total number of antibiotics: 2\n"
     ]
    }
   ],
   "source": [
    "med1.medCount()\n",
    "med2.abxCount()\n"
   ]
  },
  {
   "cell_type": "markdown",
   "metadata": {},
   "source": [
    "Display individual medications or a list of all medications in table format. "
   ]
  },
  {
   "cell_type": "code",
   "execution_count": 6,
   "metadata": {},
   "outputs": [
    {
     "name": "stdout",
     "output_type": "stream",
     "text": [
      "+------------+------+-----------+\n",
      "| Medication | Dose | Frequency |\n",
      "+------------+------+-----------+\n",
      "|  aspirin   | 80mg |   daily   |\n",
      "+------------+------+-----------+\n",
      "+-------------+-------+-------------------+\n",
      "|  Medication |  Dose |     Frequency     |\n",
      "+-------------+-------+-------------------+\n",
      "|   aspirin   |  80mg |       daily       |\n",
      "| amoxicillin | 500mg | three times daily |\n",
      "|    septra   |  2 DS |  two times daily  |\n",
      "|  furosemide |  40mg |  daily as needed  |\n",
      "+-------------+-------+-------------------+\n"
     ]
    }
   ],
   "source": [
    "med1.display()\n",
    "med1.displayAll()"
   ]
  },
  {
   "cell_type": "code",
   "execution_count": null,
   "metadata": {},
   "outputs": [],
   "source": []
  }
 ],
 "metadata": {
  "kernelspec": {
   "display_name": "Python 3",
   "language": "python",
   "name": "python3"
  },
  "language_info": {
   "codemirror_mode": {
    "name": "ipython",
    "version": 3
   },
   "file_extension": ".py",
   "mimetype": "text/x-python",
   "name": "python",
   "nbconvert_exporter": "python",
   "pygments_lexer": "ipython3",
   "version": "3.7.3"
  }
 },
 "nbformat": 4,
 "nbformat_minor": 2
}
